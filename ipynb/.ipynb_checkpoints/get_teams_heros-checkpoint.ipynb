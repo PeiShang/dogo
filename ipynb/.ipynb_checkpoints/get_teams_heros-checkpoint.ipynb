{
 "cells": [
  {
   "cell_type": "code",
   "execution_count": 1,
   "metadata": {},
   "outputs": [],
   "source": [
    "import pandas as pd\n",
    "import opendota2 as od"
   ]
  },
  {
   "cell_type": "code",
   "execution_count": 2,
   "metadata": {},
   "outputs": [],
   "source": [
    "teams = od.get_teams()\n",
    "teams_id = [team['team_id'] for team in teams]\n",
    "df_teams_id = pd.Series(data=teams_id, name='team_id')\n",
    "df_teams_id.to_csv('../ref/teams_id.csv')"
   ]
  },
  {
   "cell_type": "code",
   "execution_count": 8,
   "metadata": {},
   "outputs": [],
   "source": [
    "heroes = od.get_heroes()\n",
    "heroes_id = [hero['id'] for hero in heroes]\n",
    "df_heroes_id = pd.Series(data=heroes_id, name='hero_id')\n",
    "df_heroes_id.to_csv('../ref/heroes_id.csv')"
   ]
  },
  {
   "cell_type": "code",
   "execution_count": null,
   "metadata": {},
   "outputs": [],
   "source": []
  }
 ],
 "metadata": {
  "kernelspec": {
   "display_name": "Python [conda env:py36]",
   "language": "python",
   "name": "conda-env-py36-py"
  },
  "language_info": {
   "codemirror_mode": {
    "name": "ipython",
    "version": 3
   },
   "file_extension": ".py",
   "mimetype": "text/x-python",
   "name": "python",
   "nbconvert_exporter": "python",
   "pygments_lexer": "ipython3",
   "version": "3.6.5"
  }
 },
 "nbformat": 4,
 "nbformat_minor": 2
}
