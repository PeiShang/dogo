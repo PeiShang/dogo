{
 "cells": [
  {
   "cell_type": "markdown",
   "metadata": {
    "nbpresent": {
     "id": "43f017ba-36fe-4360-b292-99b3b70e87ef"
    }
   },
   "source": [
    "# Vol 0.1.0 LSTM model"
   ]
  },
  {
   "cell_type": "code",
   "execution_count": 1,
   "metadata": {
    "nbpresent": {
     "id": "c634dc03-ebc1-4081-bec1-703c70661839"
    }
   },
   "outputs": [],
   "source": [
    "import pandas as pd\n",
    "import numpy as np\n",
    "import time\n",
    "from sklearn.preprocessing import OneHotEncoder, LabelEncoder\n",
    "from sklearn.model_selection import train_test_split"
   ]
  },
  {
   "cell_type": "markdown",
   "metadata": {},
   "source": [
    "## 1.Read the data"
   ]
  },
  {
   "cell_type": "code",
   "execution_count": 2,
   "metadata": {
    "nbpresent": {
     "id": "2c78a3e8-1da1-4808-abdd-07d51e9ccca3"
    }
   },
   "outputs": [
    {
     "name": "stdout",
     "output_type": "stream",
     "text": [
      "total # of matches: 17787\n"
     ]
    }
   ],
   "source": [
    "match_data = pd.read_csv('../ref/Top_1000_teams_matches.csv', index_col=0)\n",
    "heroes_id = pd.read_csv('../ref/heroes_id.csv', index_col=0, header=None)\n",
    "teams_id = pd.read_csv('../ref/teams_id.csv', index_col=0, header=None)\n",
    "# Shuffle the match data\n",
    "match_data = match_data.sample(frac=1, random_state=101).reset_index(drop=True)\n",
    "y = match_data.iloc[:, -4:-1]\n",
    "X = match_data.drop(['Radiant_win', 'Radiant_fb', 'Radiant_10kill'], axis=1)\n",
    "print('total # of matches: {}'.format(match_data.shape[0]))"
   ]
  },
  {
   "cell_type": "code",
   "execution_count": 3,
   "metadata": {
    "nbpresent": {
     "id": "75e9d137-327e-4d22-9ca4-58a0f7063ebb"
    }
   },
   "outputs": [
    {
     "data": {
      "text/html": [
       "<div>\n",
       "<style scoped>\n",
       "    .dataframe tbody tr th:only-of-type {\n",
       "        vertical-align: middle;\n",
       "    }\n",
       "\n",
       "    .dataframe tbody tr th {\n",
       "        vertical-align: top;\n",
       "    }\n",
       "\n",
       "    .dataframe thead th {\n",
       "        text-align: right;\n",
       "    }\n",
       "</style>\n",
       "<table border=\"1\" class=\"dataframe\">\n",
       "  <thead>\n",
       "    <tr style=\"text-align: right;\">\n",
       "      <th></th>\n",
       "      <th>Radiant_team_id</th>\n",
       "      <th>Radiant_team_rating</th>\n",
       "      <th>Dire_team_id</th>\n",
       "      <th>Dire_team_rating</th>\n",
       "      <th>Radiant_hero1</th>\n",
       "      <th>Radiant_hero2</th>\n",
       "      <th>Radiant_hero3</th>\n",
       "      <th>Radiant_hero4</th>\n",
       "      <th>Radiant_hero5</th>\n",
       "      <th>Dire_hero1</th>\n",
       "      <th>Dire_hero2</th>\n",
       "      <th>Dire_hero3</th>\n",
       "      <th>Dire_hero4</th>\n",
       "      <th>Dire_hero5</th>\n",
       "      <th>Radiant_win</th>\n",
       "      <th>Radiant_fb</th>\n",
       "      <th>Radiant_10kill</th>\n",
       "      <th>start_time</th>\n",
       "    </tr>\n",
       "  </thead>\n",
       "  <tbody>\n",
       "    <tr>\n",
       "      <th>0</th>\n",
       "      <td>3331948</td>\n",
       "      <td>1203.45</td>\n",
       "      <td>3325252</td>\n",
       "      <td>1000.00</td>\n",
       "      <td>97</td>\n",
       "      <td>8</td>\n",
       "      <td>30</td>\n",
       "      <td>62</td>\n",
       "      <td>65</td>\n",
       "      <td>86</td>\n",
       "      <td>2</td>\n",
       "      <td>110</td>\n",
       "      <td>18</td>\n",
       "      <td>74</td>\n",
       "      <td>True</td>\n",
       "      <td>True</td>\n",
       "      <td>True</td>\n",
       "      <td>1489206014</td>\n",
       "    </tr>\n",
       "    <tr>\n",
       "      <th>1</th>\n",
       "      <td>111474</td>\n",
       "      <td>1084.27</td>\n",
       "      <td>2006913</td>\n",
       "      <td>1291.81</td>\n",
       "      <td>69</td>\n",
       "      <td>31</td>\n",
       "      <td>39</td>\n",
       "      <td>26</td>\n",
       "      <td>73</td>\n",
       "      <td>91</td>\n",
       "      <td>19</td>\n",
       "      <td>3</td>\n",
       "      <td>28</td>\n",
       "      <td>78</td>\n",
       "      <td>False</td>\n",
       "      <td>True</td>\n",
       "      <td>True</td>\n",
       "      <td>1444935417</td>\n",
       "    </tr>\n",
       "    <tr>\n",
       "      <th>2</th>\n",
       "      <td>5326717</td>\n",
       "      <td>1035.27</td>\n",
       "      <td>4425117</td>\n",
       "      <td>1073.52</td>\n",
       "      <td>57</td>\n",
       "      <td>86</td>\n",
       "      <td>3</td>\n",
       "      <td>8</td>\n",
       "      <td>11</td>\n",
       "      <td>19</td>\n",
       "      <td>78</td>\n",
       "      <td>87</td>\n",
       "      <td>39</td>\n",
       "      <td>88</td>\n",
       "      <td>False</td>\n",
       "      <td>True</td>\n",
       "      <td>False</td>\n",
       "      <td>1521978605</td>\n",
       "    </tr>\n",
       "    <tr>\n",
       "      <th>3</th>\n",
       "      <td>2202484</td>\n",
       "      <td>1000.00</td>\n",
       "      <td>3332295</td>\n",
       "      <td>1215.38</td>\n",
       "      <td>57</td>\n",
       "      <td>48</td>\n",
       "      <td>3</td>\n",
       "      <td>51</td>\n",
       "      <td>47</td>\n",
       "      <td>62</td>\n",
       "      <td>86</td>\n",
       "      <td>108</td>\n",
       "      <td>70</td>\n",
       "      <td>35</td>\n",
       "      <td>False</td>\n",
       "      <td>True</td>\n",
       "      <td>False</td>\n",
       "      <td>1481731068</td>\n",
       "    </tr>\n",
       "    <tr>\n",
       "      <th>4</th>\n",
       "      <td>2780911</td>\n",
       "      <td>1181.10</td>\n",
       "      <td>3672381</td>\n",
       "      <td>1000.00</td>\n",
       "      <td>83</td>\n",
       "      <td>104</td>\n",
       "      <td>112</td>\n",
       "      <td>1</td>\n",
       "      <td>47</td>\n",
       "      <td>16</td>\n",
       "      <td>5</td>\n",
       "      <td>70</td>\n",
       "      <td>55</td>\n",
       "      <td>74</td>\n",
       "      <td>True</td>\n",
       "      <td>True</td>\n",
       "      <td>True</td>\n",
       "      <td>1494158848</td>\n",
       "    </tr>\n",
       "  </tbody>\n",
       "</table>\n",
       "</div>"
      ],
      "text/plain": [
       "   Radiant_team_id  Radiant_team_rating  Dire_team_id  Dire_team_rating  \\\n",
       "0          3331948              1203.45       3325252           1000.00   \n",
       "1           111474              1084.27       2006913           1291.81   \n",
       "2          5326717              1035.27       4425117           1073.52   \n",
       "3          2202484              1000.00       3332295           1215.38   \n",
       "4          2780911              1181.10       3672381           1000.00   \n",
       "\n",
       "   Radiant_hero1  Radiant_hero2  Radiant_hero3  Radiant_hero4  Radiant_hero5  \\\n",
       "0             97              8             30             62             65   \n",
       "1             69             31             39             26             73   \n",
       "2             57             86              3              8             11   \n",
       "3             57             48              3             51             47   \n",
       "4             83            104            112              1             47   \n",
       "\n",
       "   Dire_hero1  Dire_hero2  Dire_hero3  Dire_hero4  Dire_hero5  Radiant_win  \\\n",
       "0          86           2         110          18          74         True   \n",
       "1          91          19           3          28          78        False   \n",
       "2          19          78          87          39          88        False   \n",
       "3          62          86         108          70          35        False   \n",
       "4          16           5          70          55          74         True   \n",
       "\n",
       "   Radiant_fb  Radiant_10kill  start_time  \n",
       "0        True            True  1489206014  \n",
       "1        True            True  1444935417  \n",
       "2        True           False  1521978605  \n",
       "3        True           False  1481731068  \n",
       "4        True            True  1494158848  "
      ]
     },
     "execution_count": 3,
     "metadata": {},
     "output_type": "execute_result"
    }
   ],
   "source": [
    "match_data.head()"
   ]
  },
  {
   "cell_type": "code",
   "execution_count": 4,
   "metadata": {
    "nbpresent": {
     "id": "3ac03b45-1719-45a7-be31-f763bbd04283"
    }
   },
   "outputs": [
    {
     "data": {
      "text/html": [
       "<div>\n",
       "<style scoped>\n",
       "    .dataframe tbody tr th:only-of-type {\n",
       "        vertical-align: middle;\n",
       "    }\n",
       "\n",
       "    .dataframe tbody tr th {\n",
       "        vertical-align: top;\n",
       "    }\n",
       "\n",
       "    .dataframe thead th {\n",
       "        text-align: right;\n",
       "    }\n",
       "</style>\n",
       "<table border=\"1\" class=\"dataframe\">\n",
       "  <thead>\n",
       "    <tr style=\"text-align: right;\">\n",
       "      <th></th>\n",
       "      <th>Radiant_win</th>\n",
       "      <th>Radiant_fb</th>\n",
       "      <th>Radiant_10kill</th>\n",
       "    </tr>\n",
       "  </thead>\n",
       "  <tbody>\n",
       "    <tr>\n",
       "      <th>0</th>\n",
       "      <td>True</td>\n",
       "      <td>True</td>\n",
       "      <td>True</td>\n",
       "    </tr>\n",
       "    <tr>\n",
       "      <th>1</th>\n",
       "      <td>False</td>\n",
       "      <td>True</td>\n",
       "      <td>True</td>\n",
       "    </tr>\n",
       "    <tr>\n",
       "      <th>2</th>\n",
       "      <td>False</td>\n",
       "      <td>True</td>\n",
       "      <td>False</td>\n",
       "    </tr>\n",
       "    <tr>\n",
       "      <th>3</th>\n",
       "      <td>False</td>\n",
       "      <td>True</td>\n",
       "      <td>False</td>\n",
       "    </tr>\n",
       "    <tr>\n",
       "      <th>4</th>\n",
       "      <td>True</td>\n",
       "      <td>True</td>\n",
       "      <td>True</td>\n",
       "    </tr>\n",
       "  </tbody>\n",
       "</table>\n",
       "</div>"
      ],
      "text/plain": [
       "   Radiant_win  Radiant_fb  Radiant_10kill\n",
       "0         True        True            True\n",
       "1        False        True            True\n",
       "2        False        True           False\n",
       "3        False        True           False\n",
       "4         True        True            True"
      ]
     },
     "execution_count": 4,
     "metadata": {},
     "output_type": "execute_result"
    }
   ],
   "source": [
    "y.head()"
   ]
  },
  {
   "cell_type": "code",
   "execution_count": 5,
   "metadata": {
    "nbpresent": {
     "id": "ecf4c0ac-7c45-4454-835c-2360e0e5d8f8"
    }
   },
   "outputs": [
    {
     "data": {
      "text/html": [
       "<div>\n",
       "<style scoped>\n",
       "    .dataframe tbody tr th:only-of-type {\n",
       "        vertical-align: middle;\n",
       "    }\n",
       "\n",
       "    .dataframe tbody tr th {\n",
       "        vertical-align: top;\n",
       "    }\n",
       "\n",
       "    .dataframe thead th {\n",
       "        text-align: right;\n",
       "    }\n",
       "</style>\n",
       "<table border=\"1\" class=\"dataframe\">\n",
       "  <thead>\n",
       "    <tr style=\"text-align: right;\">\n",
       "      <th></th>\n",
       "      <th>Radiant_team_id</th>\n",
       "      <th>Radiant_team_rating</th>\n",
       "      <th>Dire_team_id</th>\n",
       "      <th>Dire_team_rating</th>\n",
       "      <th>Radiant_hero1</th>\n",
       "      <th>Radiant_hero2</th>\n",
       "      <th>Radiant_hero3</th>\n",
       "      <th>Radiant_hero4</th>\n",
       "      <th>Radiant_hero5</th>\n",
       "      <th>Dire_hero1</th>\n",
       "      <th>Dire_hero2</th>\n",
       "      <th>Dire_hero3</th>\n",
       "      <th>Dire_hero4</th>\n",
       "      <th>Dire_hero5</th>\n",
       "      <th>start_time</th>\n",
       "    </tr>\n",
       "  </thead>\n",
       "  <tbody>\n",
       "    <tr>\n",
       "      <th>0</th>\n",
       "      <td>3331948</td>\n",
       "      <td>1203.45</td>\n",
       "      <td>3325252</td>\n",
       "      <td>1000.00</td>\n",
       "      <td>97</td>\n",
       "      <td>8</td>\n",
       "      <td>30</td>\n",
       "      <td>62</td>\n",
       "      <td>65</td>\n",
       "      <td>86</td>\n",
       "      <td>2</td>\n",
       "      <td>110</td>\n",
       "      <td>18</td>\n",
       "      <td>74</td>\n",
       "      <td>1489206014</td>\n",
       "    </tr>\n",
       "    <tr>\n",
       "      <th>1</th>\n",
       "      <td>111474</td>\n",
       "      <td>1084.27</td>\n",
       "      <td>2006913</td>\n",
       "      <td>1291.81</td>\n",
       "      <td>69</td>\n",
       "      <td>31</td>\n",
       "      <td>39</td>\n",
       "      <td>26</td>\n",
       "      <td>73</td>\n",
       "      <td>91</td>\n",
       "      <td>19</td>\n",
       "      <td>3</td>\n",
       "      <td>28</td>\n",
       "      <td>78</td>\n",
       "      <td>1444935417</td>\n",
       "    </tr>\n",
       "    <tr>\n",
       "      <th>2</th>\n",
       "      <td>5326717</td>\n",
       "      <td>1035.27</td>\n",
       "      <td>4425117</td>\n",
       "      <td>1073.52</td>\n",
       "      <td>57</td>\n",
       "      <td>86</td>\n",
       "      <td>3</td>\n",
       "      <td>8</td>\n",
       "      <td>11</td>\n",
       "      <td>19</td>\n",
       "      <td>78</td>\n",
       "      <td>87</td>\n",
       "      <td>39</td>\n",
       "      <td>88</td>\n",
       "      <td>1521978605</td>\n",
       "    </tr>\n",
       "    <tr>\n",
       "      <th>3</th>\n",
       "      <td>2202484</td>\n",
       "      <td>1000.00</td>\n",
       "      <td>3332295</td>\n",
       "      <td>1215.38</td>\n",
       "      <td>57</td>\n",
       "      <td>48</td>\n",
       "      <td>3</td>\n",
       "      <td>51</td>\n",
       "      <td>47</td>\n",
       "      <td>62</td>\n",
       "      <td>86</td>\n",
       "      <td>108</td>\n",
       "      <td>70</td>\n",
       "      <td>35</td>\n",
       "      <td>1481731068</td>\n",
       "    </tr>\n",
       "    <tr>\n",
       "      <th>4</th>\n",
       "      <td>2780911</td>\n",
       "      <td>1181.10</td>\n",
       "      <td>3672381</td>\n",
       "      <td>1000.00</td>\n",
       "      <td>83</td>\n",
       "      <td>104</td>\n",
       "      <td>112</td>\n",
       "      <td>1</td>\n",
       "      <td>47</td>\n",
       "      <td>16</td>\n",
       "      <td>5</td>\n",
       "      <td>70</td>\n",
       "      <td>55</td>\n",
       "      <td>74</td>\n",
       "      <td>1494158848</td>\n",
       "    </tr>\n",
       "  </tbody>\n",
       "</table>\n",
       "</div>"
      ],
      "text/plain": [
       "   Radiant_team_id  Radiant_team_rating  Dire_team_id  Dire_team_rating  \\\n",
       "0          3331948              1203.45       3325252           1000.00   \n",
       "1           111474              1084.27       2006913           1291.81   \n",
       "2          5326717              1035.27       4425117           1073.52   \n",
       "3          2202484              1000.00       3332295           1215.38   \n",
       "4          2780911              1181.10       3672381           1000.00   \n",
       "\n",
       "   Radiant_hero1  Radiant_hero2  Radiant_hero3  Radiant_hero4  Radiant_hero5  \\\n",
       "0             97              8             30             62             65   \n",
       "1             69             31             39             26             73   \n",
       "2             57             86              3              8             11   \n",
       "3             57             48              3             51             47   \n",
       "4             83            104            112              1             47   \n",
       "\n",
       "   Dire_hero1  Dire_hero2  Dire_hero3  Dire_hero4  Dire_hero5  start_time  \n",
       "0          86           2         110          18          74  1489206014  \n",
       "1          91          19           3          28          78  1444935417  \n",
       "2          19          78          87          39          88  1521978605  \n",
       "3          62          86         108          70          35  1481731068  \n",
       "4          16           5          70          55          74  1494158848  "
      ]
     },
     "execution_count": 5,
     "metadata": {},
     "output_type": "execute_result"
    }
   ],
   "source": [
    "X.head()"
   ]
  },
  {
   "cell_type": "markdown",
   "metadata": {},
   "source": [
    "## 2.One-hot encoding team_id and hero_id"
   ]
  },
  {
   "cell_type": "code",
   "execution_count": 6,
   "metadata": {},
   "outputs": [],
   "source": [
    "def build_oh_encoder(X):\n",
    "    label_encoder = LabelEncoder().fit(X.ravel())\n",
    "    interger_encoded = label_encoder.transform(X.ravel()).reshape(-1,1)\n",
    "    oh_encoder = OneHotEncoder().fit(interger_encoded)\n",
    "    return label_encoder, oh_encoder\n",
    "\n",
    "def oh_encode(X, oh_encoder, label_encoder):\n",
    "    interger_encoded = label_encoder.transform(X.ravel()).reshape(-1,1)\n",
    "    oh_encoded = oh_encoder.transform(interger_encoded)\n",
    "    return oh_encoded\n",
    "\n",
    "def oh_decode(X_encoded, label_encoder):\n",
    "    return label_encoder.inverse_transform([np.argmax(X_encoded.todense()[0, :])])"
   ]
  },
  {
   "cell_type": "code",
   "execution_count": 7,
   "metadata": {},
   "outputs": [],
   "source": [
    "label_encoder_team, oh_encoder_team = build_oh_encoder(teams_id.values)\n",
    "label_encoder_hero, oh_encoder_hero = build_oh_encoder(heroes_id.values)"
   ]
  },
  {
   "cell_type": "code",
   "execution_count": 8,
   "metadata": {},
   "outputs": [
    {
     "name": "stdout",
     "output_type": "stream",
     "text": [
      "[0] Finish One-hot encoding features.\n"
     ]
    }
   ],
   "source": [
    "X['Radiant_team_id'] = oh_encode(X['Radiant_team_id'].values.reshape(-1,1), oh_encoder_team, label_encoder_team)\n",
    "X['Dire_team_id'] = oh_encode(X['Dire_team_id'].values.reshape(-1,1), oh_encoder_team, label_encoder_team)\n",
    "for hero_num in range(1,6):\n",
    "    X['Radiant_hero'+str(hero_num)] = oh_encode(X['Radiant_hero'+str(hero_num)].values.reshape(-1, 1), \n",
    "                                                oh_encoder_hero, label_encoder_hero) \n",
    "    X['Dire_hero'+str(hero_num)] = oh_encode(X['Dire_hero'+str(hero_num)].values.reshape(-1, 1), \n",
    "                                                oh_encoder_hero, label_encoder_hero)\n",
    "print('Finish One-hot encoding features.')"
   ]
  },
  {
   "cell_type": "markdown",
   "metadata": {},
   "source": [
    "## 3.Split data into training and testing dataset"
   ]
  },
  {
   "cell_type": "code",
   "execution_count": 20,
   "metadata": {},
   "outputs": [],
   "source": [
    "X_train, X_test, y_train, y_test = train_test_split(X, y, test_size=0.2, random_state=102)"
   ]
  },
  {
   "cell_type": "markdown",
   "metadata": {},
   "source": [
    "## 4.Select hero feature and non-hero feature"
   ]
  },
  {
   "cell_type": "code",
   "execution_count": 21,
   "metadata": {},
   "outputs": [],
   "source": [
    "def get_hero_features(X):\n",
    "    X_hero = X.loc[:, ['Radiant_hero1', 'Radiant_hero2', 'Radiant_hero3', \n",
    "                       'Radiant_hero4', 'Radiant_hero5', 'Dire_hero1', \n",
    "                       'Dire_hero2', 'Dire_hero3', 'Dire_hero4', 'Dire_hero5']]\n",
    "    return X_hero\n",
    "\n",
    "def get_non_hero_features(X):\n",
    "    X_non_hero = X.loc[:, ['Radiant_team_id', 'Radiant_team_rating', 'Dire_team_id', \n",
    "                           'Dire_team_rating', 'start_time']]\n",
    "    return X_non_hero"
   ]
  },
  {
   "cell_type": "code",
   "execution_count": 22,
   "metadata": {},
   "outputs": [
    {
     "name": "stdout",
     "output_type": "stream",
     "text": [
      "X_train_hero.shape:     (14229, 10)\n",
      "X_train_non_hero.shape: (14229, 5)\n",
      "X_test_hero.shape:      (3558, 10)\n",
      "X_test_non_hero.shape:  (3558, 5)\n",
      "y_train.shape:          (14229, 3)\n",
      "y_test.shape:           (3558, 3)\n"
     ]
    }
   ],
   "source": [
    "X_train_hero = get_hero_features(X_train)\n",
    "X_train_non_hero = get_non_hero_features(X_train)\n",
    "X_test_hero = get_hero_features(X_test)\n",
    "X_test_non_hero = get_non_hero_features(X_test)\n",
    "print('X_train_hero.shape:     ({}, {})'.format(X_train_hero.shape[0], X_train_hero.shape[1]))\n",
    "print('X_train_non_hero.shape: ({}, {})'.format(X_train_non_hero.shape[0], X_train_non_hero.shape[1]))\n",
    "print('X_test_hero.shape:      ({}, {})'.format(X_test_hero.shape[0], X_test_hero.shape[1]))\n",
    "print('X_test_non_hero.shape:  ({}, {})'.format(X_test_non_hero.shape[0], X_test_non_hero.shape[1]))\n",
    "print('y_train.shape:          ({}, {})'.format(y_train.shape[0], y_train.shape[1]))\n",
    "print('y_test.shape:           ({}, {})'.format(y_test.shape[0], y_test.shape[1]))"
   ]
  },
  {
   "cell_type": "code",
   "execution_count": 23,
   "metadata": {},
   "outputs": [
    {
     "name": "stderr",
     "output_type": "stream",
     "text": [
      "/home/pei/anaconda3/envs/py36/lib/python3.6/site-packages/h5py/__init__.py:36: FutureWarning: Conversion of the second argument of issubdtype from `float` to `np.floating` is deprecated. In future, it will be treated as `np.float64 == np.dtype(float).type`.\n",
      "  from ._conv import register_converters as _register_converters\n",
      "Using TensorFlow backend.\n"
     ]
    }
   ],
   "source": [
    "from keras.layers import Input, Embedding, LSTM, Dense\n",
    "from keras.models import Model"
   ]
  },
  {
   "cell_type": "code",
   "execution_count": null,
   "metadata": {},
   "outputs": [],
   "source": [
    "heroes_input = Input(shape=(10,), name='heroes_input')\n"
   ]
  },
  {
   "cell_type": "code",
   "execution_count": 25,
   "metadata": {},
   "outputs": [
    {
     "data": {
      "text/plain": [
       "<17787x115 sparse matrix of type '<class 'numpy.float64'>'\n",
       "\twith 17787 stored elements in Compressed Sparse Row format>"
      ]
     },
     "execution_count": 25,
     "metadata": {},
     "output_type": "execute_result"
    }
   ],
   "source": [
    "X_train_hero.iloc[0,0]"
   ]
  },
  {
   "cell_type": "code",
   "execution_count": null,
   "metadata": {},
   "outputs": [],
   "source": []
  }
 ],
 "metadata": {
  "kernelspec": {
   "display_name": "Python [conda env:py36]",
   "language": "python",
   "name": "conda-env-py36-py"
  },
  "language_info": {
   "codemirror_mode": {
    "name": "ipython",
    "version": 3
   },
   "file_extension": ".py",
   "mimetype": "text/x-python",
   "name": "python",
   "nbconvert_exporter": "python",
   "pygments_lexer": "ipython3",
   "version": "3.6.5"
  }
 },
 "nbformat": 4,
 "nbformat_minor": 2
}
